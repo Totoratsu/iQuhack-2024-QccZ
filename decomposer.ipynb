{
 "cells": [
  {
   "cell_type": "code",
   "execution_count": 35,
   "metadata": {},
   "outputs": [],
   "source": [
    "import math\n",
    "import numpy as np\n",
    "\n",
    "import perceval as pcvl\n",
    "from perceval.components.linear_circuit import Circuit\n",
    "import perceval.components as comp"
   ]
  },
  {
   "cell_type": "code",
   "execution_count": 40,
   "metadata": {},
   "outputs": [
    {
     "ename": "AssertionError",
     "evalue": "U parameter must be a unitary matrix",
     "output_type": "error",
     "traceback": [
      "\u001b[0;31m---------------------------------------------------------------------------\u001b[0m",
      "\u001b[0;31mAssertionError\u001b[0m                            Traceback (most recent call last)",
      "Cell \u001b[0;32mIn[40], line 14\u001b[0m\n\u001b[1;32m      1\u001b[0m U \u001b[38;5;241m=\u001b[39m pcvl\u001b[38;5;241m.\u001b[39mMatrix([[ \u001b[38;5;241m0.01401236\u001b[39m\u001b[38;5;241m-\u001b[39m\u001b[38;5;241m0.26330385\u001b[39mj,  \u001b[38;5;241m0.03953893\u001b[39m\u001b[38;5;241m+\u001b[39m\u001b[38;5;241m0.01694316\u001b[39mj,  \u001b[38;5;241m0.03437104\u001b[39m\u001b[38;5;241m+\u001b[39m\u001b[38;5;241m0.18470981\u001b[39mj,\n\u001b[1;32m      2\u001b[0m    \u001b[38;5;241m0.39745623\u001b[39m\u001b[38;5;241m+\u001b[39m\u001b[38;5;241m0.19229393\u001b[39mj, \u001b[38;5;241m-\u001b[39m\u001b[38;5;241m0.02613052\u001b[39m\u001b[38;5;241m+\u001b[39m\u001b[38;5;241m0.58432327\u001b[39mj, \u001b[38;5;241m-\u001b[39m\u001b[38;5;241m0.276804\u001b[39m  \u001b[38;5;241m+\u001b[39m\u001b[38;5;241m0.52880989\u001b[39mj],\n\u001b[1;32m      3\u001b[0m  [\u001b[38;5;241m-\u001b[39m\u001b[38;5;241m0.27928651\u001b[39m\u001b[38;5;241m+\u001b[39m\u001b[38;5;241m0.13308178\u001b[39mj, \u001b[38;5;241m-\u001b[39m\u001b[38;5;241m0.10915402\u001b[39m\u001b[38;5;241m-\u001b[39m\u001b[38;5;241m0.14853236\u001b[39mj,  \u001b[38;5;241m0.4194344\u001b[39m \u001b[38;5;241m+\u001b[39m\u001b[38;5;241m0.44481936\u001b[39mj,\n\u001b[0;32m   (...)\u001b[0m\n\u001b[1;32m     11\u001b[0m  [ \u001b[38;5;241m0.52468438\u001b[39m\u001b[38;5;241m-\u001b[39m\u001b[38;5;241m0.33016455\u001b[39mj,  \u001b[38;5;241m0.05387608\u001b[39m\u001b[38;5;241m+\u001b[39m\u001b[38;5;241m0.14074934\u001b[39mj,  \u001b[38;5;241m0.18913932\u001b[39m\u001b[38;5;241m-\u001b[39m\u001b[38;5;241m0.34082886\u001b[39mj,\n\u001b[1;32m     12\u001b[0m    \u001b[38;5;241m0.10190986\u001b[39m\u001b[38;5;241m-\u001b[39m\u001b[38;5;241m0.50647291\u001b[39mj,  \u001b[38;5;241m0.05275128\u001b[39m\u001b[38;5;241m-\u001b[39m\u001b[38;5;241m0.21709058\u001b[39mj, \u001b[38;5;241m-\u001b[39m\u001b[38;5;241m0.3402899\u001b[39m \u001b[38;5;241m+\u001b[39m\u001b[38;5;241m0.09185864\u001b[39mj]])\n\u001b[0;32m---> 14\u001b[0m Unitary_matrix \u001b[38;5;241m=\u001b[39m \u001b[43mcomp\u001b[49m\u001b[38;5;241;43m.\u001b[39;49m\u001b[43mUnitary\u001b[49m\u001b[43m(\u001b[49m\u001b[43mU\u001b[49m\u001b[38;5;241;43m=\u001b[39;49m\u001b[43mU\u001b[49m\u001b[43m)\u001b[49m\n",
      "File \u001b[0;32m~/anaconda3/envs/quantum/lib/python3.11/site-packages/perceval/components/unitary_components.py:338\u001b[0m, in \u001b[0;36mUnitary.__init__\u001b[0;34m(self, U, name, use_polarization)\u001b[0m\n\u001b[1;32m    336\u001b[0m \u001b[38;5;28;01mdef\u001b[39;00m \u001b[38;5;21m__init__\u001b[39m(\u001b[38;5;28mself\u001b[39m, U: Matrix, name: \u001b[38;5;28mstr\u001b[39m \u001b[38;5;241m=\u001b[39m \u001b[38;5;28;01mNone\u001b[39;00m, use_polarization: \u001b[38;5;28mbool\u001b[39m \u001b[38;5;241m=\u001b[39m \u001b[38;5;28;01mFalse\u001b[39;00m):\n\u001b[1;32m    337\u001b[0m     \u001b[38;5;28;01massert\u001b[39;00m U \u001b[38;5;129;01mis\u001b[39;00m \u001b[38;5;129;01mnot\u001b[39;00m \u001b[38;5;28;01mNone\u001b[39;00m, \u001b[38;5;124m\"\u001b[39m\u001b[38;5;124mA unitary matrix is required\u001b[39m\u001b[38;5;124m\"\u001b[39m\n\u001b[0;32m--> 338\u001b[0m     \u001b[38;5;28;01massert\u001b[39;00m U\u001b[38;5;241m.\u001b[39mis_unitary(), \u001b[38;5;124m\"\u001b[39m\u001b[38;5;124mU parameter must be a unitary matrix\u001b[39m\u001b[38;5;124m\"\u001b[39m\n\u001b[1;32m    339\u001b[0m     \u001b[38;5;66;03m# A symbolic matrix is not a use case for this component\u001b[39;00m\n\u001b[1;32m    340\u001b[0m     \u001b[38;5;28;01massert\u001b[39;00m \u001b[38;5;129;01mnot\u001b[39;00m U\u001b[38;5;241m.\u001b[39mis_symbolic(), \u001b[38;5;124m\"\u001b[39m\u001b[38;5;124mU parameter must not be symbolic\u001b[39m\u001b[38;5;124m\"\u001b[39m\n",
      "\u001b[0;31mAssertionError\u001b[0m: U parameter must be a unitary matrix"
     ]
    }
   ],
   "source": [
    "U = pcvl.Matrix([[ 0.01401236-0.26330385j,  0.03953893+0.01694316j,  0.03437104+0.18470981j,\n",
    "   0.39745623+0.19229393j, -0.02613052+0.58432327j, -0.276804  +0.52880989j],\n",
    " [-0.27928651+0.13308178j, -0.10915402-0.14853236j,  0.4194344 +0.44481936j,\n",
    "  -0.17934838-0.10352693j, -0.03598381-0.42711186j, -0.39133817+0.34172173j],\n",
    " [-0.25229345+0.33671837j, -0.13855627+0.50099044j, -0.18555919+0.08898744j,\n",
    "  -0.01356569-0.5732786j , -0.28901845+0.29148239j, -0.11138537-0.02637775j],\n",
    " [-0.2667837 -0.40637399j, -0.190603  +0.39918127j,  0.52111967-0.05218217j,\n",
    "  -0.21943342+0.16685237j,  0.15340581+0.21828107j, -0.07127902-0.37612678j],\n",
    " [-0.08463353+0.17307007j, -0.30701702-0.61752428j,  0.05843474-0.34484659j,\n",
    "  -0.23341558-0.18963529j,  0.12744026+0.41029072j, -0.28186077-0.10239669j],\n",
    " [ 0.52468438-0.33016455j,  0.05387608+0.14074934j,  0.18913932-0.34082886j,\n",
    "   0.10190986-0.50647291j,  0.05275128-0.21709058j, -0.3402899 +0.09185864j]])\n",
    "\n",
    "Unitary_matrix = comp.Unitary(U=U)\n"
   ]
  },
  {
   "cell_type": "code",
   "execution_count": 37,
   "metadata": {},
   "outputs": [
    {
     "ename": "NameError",
     "evalue": "name 'Unitary_matrix' is not defined",
     "output_type": "error",
     "traceback": [
      "\u001b[0;31m---------------------------------------------------------------------------\u001b[0m",
      "\u001b[0;31mNameError\u001b[0m                                 Traceback (most recent call last)",
      "Cell \u001b[0;32mIn[37], line 7\u001b[0m\n\u001b[1;32m      3\u001b[0m QPU \u001b[38;5;241m=\u001b[39m pcvl\u001b[38;5;241m.\u001b[39mProcessor(\u001b[38;5;124m\"\u001b[39m\u001b[38;5;124mSLOS\u001b[39m\u001b[38;5;124m\"\u001b[39m, logical_qubits\u001b[38;5;241m*\u001b[39m\u001b[38;5;241m2\u001b[39m)\n\u001b[1;32m      5\u001b[0m U \u001b[38;5;241m=\u001b[39m np\u001b[38;5;241m.\u001b[39meye(\u001b[38;5;241m6\u001b[39m)\n\u001b[0;32m----> 7\u001b[0m D_QPU \u001b[38;5;241m=\u001b[39m Circuit\u001b[38;5;241m.\u001b[39mdecomposition(\u001b[43mUnitary_matrix\u001b[49m, QPU, shape\u001b[38;5;241m=\u001b[39m\u001b[38;5;124m\"\u001b[39m\u001b[38;5;124mtriangle\u001b[39m\u001b[38;5;124m\"\u001b[39m)\n\u001b[1;32m      8\u001b[0m pcvl\u001b[38;5;241m.\u001b[39mpdisplay(QPU, recursive\u001b[38;5;241m=\u001b[39m\u001b[38;5;28;01mTrue\u001b[39;00m)\n",
      "\u001b[0;31mNameError\u001b[0m: name 'Unitary_matrix' is not defined"
     ]
    }
   ],
   "source": [
    "# Simulation config\n",
    "logical_qubits = 3\n",
    "QPU = pcvl.Processor(\"SLOS\", logical_qubits*2)\n",
    "\n",
    "U = np.eye(6)\n",
    "\n",
    "D_QPU = Circuit.decomposition(Unitary_matrix, QPU)\n",
    "pcvl.pdisplay(QPU, recursive=True)"
   ]
  }
 ],
 "metadata": {
  "kernelspec": {
   "display_name": "quantum",
   "language": "python",
   "name": "python3"
  },
  "language_info": {
   "codemirror_mode": {
    "name": "ipython",
    "version": 3
   },
   "file_extension": ".py",
   "mimetype": "text/x-python",
   "name": "python",
   "nbconvert_exporter": "python",
   "pygments_lexer": "ipython3",
   "version": "3.11.3"
  }
 },
 "nbformat": 4,
 "nbformat_minor": 2
}
