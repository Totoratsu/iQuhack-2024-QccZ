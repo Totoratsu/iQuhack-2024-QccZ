{
 "cells": [
  {
   "cell_type": "code",
   "execution_count": null,
   "metadata": {},
   "outputs": [],
   "source": [
    "'''\n",
    "This notebook is an attempt at reproducing the CCZ gate of Figure 4. in Reference [6]\n",
    "'''"
   ]
  },
  {
   "cell_type": "code",
   "execution_count": 1,
   "metadata": {},
   "outputs": [],
   "source": [
    "import math\n",
    "\n",
    "import perceval as pcvl\n",
    "import perceval.components.unitary_components as comp\n",
    "\n",
    "import qiskit\n",
    "from perceval.converters import QiskitConverter\n",
    "from perceval.components import catalog"
   ]
  },
  {
   "cell_type": "code",
   "execution_count": 2,
   "metadata": {},
   "outputs": [],
   "source": [
    "# Gates\n",
    "CNOT1 = pcvl.catalog['postprocessed cnot'].build_processor()\n",
    "\n",
    "T = pcvl.PS(math.pi/4)\n",
    "T_DAG = pcvl.PS(-math.pi/4) \n",
    "\n",
    "# Simulation config\n",
    "logical_qubits = 3\n",
    "source = pcvl.Source(emission_probability=0.40, multiphoton_component=0.01)\n",
    "QPU = pcvl.Processor(\"SLOS\", logical_qubits*2, source)\n",
    "\n",
    "# Qiskit config\n",
    "qc = qiskit.QuantumCircuit(logical_qubits)"
   ]
  },
  {
   "cell_type": "markdown",
   "metadata": {},
   "source": [
    "![ccz](img/ccz.png)"
   ]
  },
  {
   "cell_type": "code",
   "execution_count": 3,
   "metadata": {},
   "outputs": [
    {
     "data": {
      "text/plain": [
       "<qiskit.circuit.instructionset.InstructionSet at 0x16ad70760>"
      ]
     },
     "execution_count": 3,
     "metadata": {},
     "output_type": "execute_result"
    }
   ],
   "source": [
    "qc.cx(1, 2)\n",
    "qc.tdg(2)\n",
    "qc.cx(0, 2)\n",
    "qc.t(2)\n",
    "qc.cx(1, 2)\n",
    "qc.tdg(2)\n",
    "qc.cx(0, 2)\n",
    "qc.t([1, 2])\n",
    "qc.cx(0, 1)\n",
    "qc.t(0)\n",
    "qc.tdg(1)\n",
    "qc.cx(0, 1)"
   ]
  },
  {
   "cell_type": "code",
   "execution_count": 4,
   "metadata": {},
   "outputs": [],
   "source": [
    "qiskit_convertor = QiskitConverter(catalog)\n",
    "QPU = qiskit_convertor.convert(qc)"
   ]
  },
  {
   "cell_type": "code",
   "execution_count": 5,
   "metadata": {},
   "outputs": [
    {
     "name": "stdout",
     "output_type": "stream",
     "text": [
      "{'000': '000', '001': '001', '010': '010', '011': '011', '100': '100', '101': '101', '110': '110', '111': '111'}\n"
     ]
    }
   ],
   "source": [
    "from itertools import product\n",
    "\n",
    "# Generar todas las permutaciones posibles de 0 y 1 en una cadena de 3 dígitos\n",
    "all_permutations = [''.join(map(str, perm)) for perm in product([0, 1], repeat=3)]\n",
    "\n",
    "# Crear un diccionario donde la clave y el valor son la misma cadena\n",
    "permutations_dict = {perm: perm for perm in all_permutations}\n",
    "\n",
    "print(permutations_dict)"
   ]
  },
  {
   "cell_type": "code",
   "execution_count": 25,
   "metadata": {},
   "outputs": [
    {
     "data": {
      "text/html": [
       "<table>\n",
       "<thead>\n",
       "<tr><th style=\"text-align: right;\">   </th><th style=\"text-align: right;\">  000</th><th style=\"text-align: right;\">  001</th><th style=\"text-align: right;\">  010</th><th style=\"text-align: right;\">  100</th><th style=\"text-align: right;\">  101</th><th style=\"text-align: right;\">  011</th><th style=\"text-align: right;\">  110</th><th style=\"text-align: right;\">  111</th></tr>\n",
       "</thead>\n",
       "<tbody>\n",
       "<tr><td style=\"text-align: right;\">000</td><td style=\"text-align: right;\">    1</td><td style=\"text-align: right;\">    0</td><td style=\"text-align: right;\">    0</td><td style=\"text-align: right;\">    0</td><td style=\"text-align: right;\">    0</td><td style=\"text-align: right;\">    0</td><td style=\"text-align: right;\">    0</td><td style=\"text-align: right;\">    0</td></tr>\n",
       "<tr><td style=\"text-align: right;\">001</td><td style=\"text-align: right;\">    0</td><td style=\"text-align: right;\">    1</td><td style=\"text-align: right;\">    0</td><td style=\"text-align: right;\">    0</td><td style=\"text-align: right;\">    0</td><td style=\"text-align: right;\">    0</td><td style=\"text-align: right;\">    0</td><td style=\"text-align: right;\">    0</td></tr>\n",
       "<tr><td style=\"text-align: right;\">010</td><td style=\"text-align: right;\">    0</td><td style=\"text-align: right;\">    0</td><td style=\"text-align: right;\">    1</td><td style=\"text-align: right;\">    0</td><td style=\"text-align: right;\">    0</td><td style=\"text-align: right;\">    0</td><td style=\"text-align: right;\">    0</td><td style=\"text-align: right;\">    0</td></tr>\n",
       "<tr><td style=\"text-align: right;\">100</td><td style=\"text-align: right;\">    0</td><td style=\"text-align: right;\">    0</td><td style=\"text-align: right;\">    0</td><td style=\"text-align: right;\">    1</td><td style=\"text-align: right;\">    0</td><td style=\"text-align: right;\">    0</td><td style=\"text-align: right;\">    0</td><td style=\"text-align: right;\">    0</td></tr>\n",
       "<tr><td style=\"text-align: right;\">101</td><td style=\"text-align: right;\">    0</td><td style=\"text-align: right;\">    0</td><td style=\"text-align: right;\">    0</td><td style=\"text-align: right;\">    0</td><td style=\"text-align: right;\">    1</td><td style=\"text-align: right;\">    0</td><td style=\"text-align: right;\">    0</td><td style=\"text-align: right;\">    0</td></tr>\n",
       "<tr><td style=\"text-align: right;\">011</td><td style=\"text-align: right;\">    0</td><td style=\"text-align: right;\">    0</td><td style=\"text-align: right;\">    0</td><td style=\"text-align: right;\">    0</td><td style=\"text-align: right;\">    0</td><td style=\"text-align: right;\">    1</td><td style=\"text-align: right;\">    0</td><td style=\"text-align: right;\">    0</td></tr>\n",
       "<tr><td style=\"text-align: right;\">110</td><td style=\"text-align: right;\">    0</td><td style=\"text-align: right;\">    0</td><td style=\"text-align: right;\">    0</td><td style=\"text-align: right;\">    0</td><td style=\"text-align: right;\">    0</td><td style=\"text-align: right;\">    0</td><td style=\"text-align: right;\">    1</td><td style=\"text-align: right;\">    0</td></tr>\n",
       "<tr><td style=\"text-align: right;\">111</td><td style=\"text-align: right;\">    0</td><td style=\"text-align: right;\">    0</td><td style=\"text-align: right;\">    0</td><td style=\"text-align: right;\">    0</td><td style=\"text-align: right;\">    0</td><td style=\"text-align: right;\">    0</td><td style=\"text-align: right;\">    0</td><td style=\"text-align: right;\">    1</td></tr>\n",
       "</tbody>\n",
       "</table>"
      ],
      "text/plain": [
       "<IPython.core.display.HTML object>"
      ]
     },
     "metadata": {},
     "output_type": "display_data"
    },
    {
     "name": "stdout",
     "output_type": "stream",
     "text": [
      "['_MAX_SHOTS_NAMED_PARAM', '__class__', '__delattr__', '__dict__', '__dir__', '__doc__', '__eq__', '__format__', '__ge__', '__getattribute__', '__getstate__', '__gt__', '__hash__', '__init__', '__init_subclass__', '__le__', '__lt__', '__module__', '__ne__', '__new__', '__reduce__', '__reduce_ex__', '__repr__', '__setattr__', '__sizeof__', '__str__', '__subclasshook__', '__weakref__', '_check_compatibility', '_distribution', '_mapping', '_max_shots', '_processor', '_sampler', 'col', 'compute', 'default_job_name', 'distribution', 'error_rate', 'fidelity', 'input_states_list', 'output_states_list', 'performance']\n",
      "[[1.+0.j 0.+0.j 0.+0.j 0.+0.j 0.+0.j 0.+0.j 0.+0.j 0.+0.j]\n",
      " [0.+0.j 1.+0.j 0.+0.j 0.+0.j 0.+0.j 0.+0.j 0.+0.j 0.+0.j]\n",
      " [0.+0.j 0.+0.j 1.+0.j 0.+0.j 0.+0.j 0.+0.j 0.+0.j 0.+0.j]\n",
      " [0.+0.j 0.+0.j 0.+0.j 1.+0.j 0.+0.j 0.+0.j 0.+0.j 0.+0.j]\n",
      " [0.+0.j 0.+0.j 0.+0.j 0.+0.j 1.+0.j 0.+0.j 0.+0.j 0.+0.j]\n",
      " [0.+0.j 0.+0.j 0.+0.j 0.+0.j 0.+0.j 1.+0.j 0.+0.j 0.+0.j]\n",
      " [0.+0.j 0.+0.j 0.+0.j 0.+0.j 0.+0.j 0.+0.j 1.+0.j 0.+0.j]\n",
      " [0.+0.j 0.+0.j 0.+0.j 0.+0.j 0.+0.j 0.+0.j 0.+0.j 1.+0.j]]\n",
      "performance = 1, fidelity = (100+0j)%\n"
     ]
    }
   ],
   "source": [
    "states = {\n",
    "     pcvl.BasicState([1, 0, 1, 0, 1, 0]): \"000\",\n",
    "     pcvl.BasicState([1, 0, 1, 0, 0, 1]): \"001\",\n",
    "     pcvl.BasicState([1, 0, 0, 1, 1, 0]): \"010\",\n",
    "     pcvl.BasicState([0, 1, 1, 0, 1, 0]): \"100\",\n",
    "     pcvl.BasicState([0, 1, 1, 0, 0, 1]): \"101\",\n",
    "     pcvl.BasicState([1, 0, 0, 1, 0, 1]): \"011\",\n",
    "     pcvl.BasicState([0, 1, 0, 1, 1, 0]): \"110\",\n",
    "     pcvl.BasicState([0, 1, 0, 1, 0, 1]): \"111\",\n",
    "}\n",
    "\n",
    "ca = pcvl.algorithm.Analyzer(QPU, states)\n",
    "ca.compute(expected={'000': '000', '001': '001', '010': '010', '011': '011', '100': '100', '101': '101', '110': '110', '111': '111'})\n",
    "\n",
    "# Testing circuit\n",
    "QPU.with_input(pcvl.BasicState([\n",
    "     0, 1, # 1\n",
    "     0, 1, # 1\n",
    "     0, 1  # 1\n",
    "]))\n",
    "\n",
    "pcvl.pdisplay(ca)\n",
    "\n",
    "print(dir(ca))\n",
    "print(ca.distribution)\n",
    "\n",
    "print(f\"performance = {pcvl.simple_float(ca.performance)[1]}, fidelity = {ca.fidelity*100}%\")"
   ]
  },
  {
   "cell_type": "code",
   "execution_count": 7,
   "metadata": {},
   "outputs": [],
   "source": [
    "output_distribution=QPU.probs()[\"results\"]\n",
    "\n",
    "pcvl.pdisplay(output_distribution, max_v=10)\n",
    "\n",
    "# Psi =  1/sqrt(2) |00> + 1/sqrt(2) |00> - 1/sqrt(2) |00>\n",
    "#|111> -> |111>\n"
   ]
  }
 ],
 "metadata": {
  "kernelspec": {
   "display_name": "quantum",
   "language": "python",
   "name": "python3"
  },
  "language_info": {
   "codemirror_mode": {
    "name": "ipython",
    "version": 3
   },
   "file_extension": ".py",
   "mimetype": "text/x-python",
   "name": "python",
   "nbconvert_exporter": "python",
   "pygments_lexer": "ipython3",
   "version": "3.11.4"
  }
 },
 "nbformat": 4,
 "nbformat_minor": 2
}
