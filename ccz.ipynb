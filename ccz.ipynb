{
 "cells": [
  {
   "cell_type": "code",
   "execution_count": 5,
   "metadata": {},
   "outputs": [],
   "source": [
    "import math\n",
    "\n",
    "import perceval as pcvl\n",
    "import perceval.components.unitary_components as comp"
   ]
  },
  {
   "cell_type": "code",
   "execution_count": 14,
   "metadata": {},
   "outputs": [],
   "source": [
    "# Gates\n",
    "CNOT1 = pcvl.catalog['postprocessed cnot'].build_processor()\n",
    "CNOT2 = pcvl.catalog['postprocessed cnot'].build_processor()\n",
    "CNOT3 = pcvl.catalog['postprocessed cnot'].build_processor()\n",
    "CNOT4 = pcvl.catalog['postprocessed cnot'].build_processor()\n",
    "CNOT5 = pcvl.catalog['postprocessed cnot'].build_processor()\n",
    "CNOT6 = pcvl.catalog['postprocessed cnot'].build_processor()\n",
    "\n",
    "T = comp.PS(math.pi/4)\n",
    "T_DAG = comp.PS(-math.pi/4) # this might be wrong\n",
    "\n",
    "# Simulation config\n",
    "logical_qubits = 3\n",
    "source = pcvl.Source(emission_probability=0.40, multiphoton_component=0.01)\n",
    "QPU = pcvl.Processor(\"SLOS\", logical_qubits*2, source)"
   ]
  },
  {
   "cell_type": "markdown",
   "metadata": {},
   "source": [
    "![ccz](img/ccz.png)"
   ]
  },
  {
   "cell_type": "code",
   "execution_count": 15,
   "metadata": {},
   "outputs": [
    {
     "ename": "RuntimeError",
     "evalue": "Cannot automatically compose two processors with post-selection conditions",
     "output_type": "error",
     "traceback": [
      "\u001b[0;31m---------------------------------------------------------------------------\u001b[0m",
      "\u001b[0;31mRuntimeError\u001b[0m                              Traceback (most recent call last)",
      "Cell \u001b[0;32mIn[15], line 5\u001b[0m\n\u001b[1;32m      1\u001b[0m QPU\u001b[38;5;241m.\u001b[39madd([\u001b[38;5;241m2\u001b[39m,\u001b[38;5;241m3\u001b[39m, \u001b[38;5;241m4\u001b[39m,\u001b[38;5;241m5\u001b[39m], CNOT1) \u001b[38;5;66;03m# 2nd qubit control 3rd qubit\u001b[39;00m\n\u001b[1;32m      3\u001b[0m QPU\u001b[38;5;241m.\u001b[39madd(\u001b[38;5;241m4\u001b[39m, T_DAG) \u001b[38;5;66;03m# T+ in 2nd qubit\u001b[39;00m\n\u001b[0;32m----> 5\u001b[0m \u001b[43mQPU\u001b[49m\u001b[38;5;241;43m.\u001b[39;49m\u001b[43madd\u001b[49m\u001b[43m(\u001b[49m\u001b[43m[\u001b[49m\u001b[38;5;241;43m0\u001b[39;49m\u001b[43m,\u001b[49m\u001b[38;5;241;43m1\u001b[39;49m\u001b[43m,\u001b[49m\u001b[43m \u001b[49m\u001b[38;5;241;43m4\u001b[39;49m\u001b[43m,\u001b[49m\u001b[38;5;241;43m5\u001b[39;49m\u001b[43m]\u001b[49m\u001b[43m,\u001b[49m\u001b[43m \u001b[49m\u001b[43mCNOT2\u001b[49m\u001b[43m)\u001b[49m \u001b[38;5;66;03m# 1st qubit control 3rd qubit\u001b[39;00m\n\u001b[1;32m      7\u001b[0m QPU\u001b[38;5;241m.\u001b[39madd(\u001b[38;5;241m4\u001b[39m, T) \u001b[38;5;66;03m# T in 2nd qubit\u001b[39;00m\n\u001b[1;32m      9\u001b[0m QPU\u001b[38;5;241m.\u001b[39madd([\u001b[38;5;241m2\u001b[39m,\u001b[38;5;241m3\u001b[39m, \u001b[38;5;241m4\u001b[39m,\u001b[38;5;241m5\u001b[39m], CNOT3) \u001b[38;5;66;03m# 2nd qubit control 3rd qubit\u001b[39;00m\n",
      "File \u001b[0;32m~/anaconda3/envs/quantum/lib/python3.11/site-packages/perceval/components/abstract_processor.py:240\u001b[0m, in \u001b[0;36mAProcessor.add\u001b[0;34m(self, mode_mapping, component, keep_port)\u001b[0m\n\u001b[1;32m    238\u001b[0m connector \u001b[38;5;241m=\u001b[39m ModeConnector(\u001b[38;5;28mself\u001b[39m, component, mode_mapping)\n\u001b[1;32m    239\u001b[0m \u001b[38;5;28;01mif\u001b[39;00m \u001b[38;5;28misinstance\u001b[39m(component, AProcessor):\n\u001b[0;32m--> 240\u001b[0m     \u001b[38;5;28;43mself\u001b[39;49m\u001b[38;5;241;43m.\u001b[39;49m\u001b[43m_compose_processor\u001b[49m\u001b[43m(\u001b[49m\u001b[43mconnector\u001b[49m\u001b[43m,\u001b[49m\u001b[43m \u001b[49m\u001b[43mcomponent\u001b[49m\u001b[43m,\u001b[49m\u001b[43m \u001b[49m\u001b[43mkeep_port\u001b[49m\u001b[43m)\u001b[49m\n\u001b[1;32m    241\u001b[0m \u001b[38;5;28;01melif\u001b[39;00m \u001b[38;5;28misinstance\u001b[39m(component, AComponent):\n\u001b[1;32m    242\u001b[0m     \u001b[38;5;28mself\u001b[39m\u001b[38;5;241m.\u001b[39m_add_component(connector\u001b[38;5;241m.\u001b[39mresolve(), component)\n",
      "File \u001b[0;32m~/anaconda3/envs/quantum/lib/python3.11/site-packages/perceval/components/processor.py:180\u001b[0m, in \u001b[0;36mProcessor._compose_processor\u001b[0;34m(self, connector, processor, keep_port)\u001b[0m\n\u001b[1;32m    178\u001b[0m \u001b[38;5;28;01mdef\u001b[39;00m \u001b[38;5;21m_compose_processor\u001b[39m(\u001b[38;5;28mself\u001b[39m, connector, processor, keep_port: \u001b[38;5;28mbool\u001b[39m):\n\u001b[1;32m    179\u001b[0m     \u001b[38;5;28;01massert\u001b[39;00m \u001b[38;5;28misinstance\u001b[39m(processor, Processor), \u001b[38;5;124m\"\u001b[39m\u001b[38;5;124mcan not mix types of processors\u001b[39m\u001b[38;5;124m\"\u001b[39m\n\u001b[0;32m--> 180\u001b[0m     \u001b[38;5;28;43msuper\u001b[39;49m\u001b[43m(\u001b[49m\u001b[43mProcessor\u001b[49m\u001b[43m,\u001b[49m\u001b[43m \u001b[49m\u001b[38;5;28;43mself\u001b[39;49m\u001b[43m)\u001b[49m\u001b[38;5;241;43m.\u001b[39;49m\u001b[43m_compose_processor\u001b[49m\u001b[43m(\u001b[49m\u001b[43mconnector\u001b[49m\u001b[43m,\u001b[49m\u001b[43m \u001b[49m\u001b[43mprocessor\u001b[49m\u001b[43m,\u001b[49m\u001b[43m \u001b[49m\u001b[43mkeep_port\u001b[49m\u001b[43m)\u001b[49m\n",
      "File \u001b[0;32m~/anaconda3/envs/quantum/lib/python3.11/site-packages/perceval/components/abstract_processor.py:260\u001b[0m, in \u001b[0;36mAProcessor._compose_processor\u001b[0;34m(self, connector, processor, keep_port)\u001b[0m\n\u001b[1;32m    258\u001b[0m mode_mapping \u001b[38;5;241m=\u001b[39m connector\u001b[38;5;241m.\u001b[39mresolve()\n\u001b[1;32m    259\u001b[0m \u001b[38;5;28;01mif\u001b[39;00m \u001b[38;5;129;01mnot\u001b[39;00m (\u001b[38;5;28mself\u001b[39m\u001b[38;5;241m.\u001b[39m_postselect \u001b[38;5;129;01mis\u001b[39;00m \u001b[38;5;28;01mNone\u001b[39;00m \u001b[38;5;129;01mor\u001b[39;00m processor\u001b[38;5;241m.\u001b[39m_postselect \u001b[38;5;129;01mis\u001b[39;00m \u001b[38;5;28;01mNone\u001b[39;00m):\n\u001b[0;32m--> 260\u001b[0m     \u001b[38;5;28;01mraise\u001b[39;00m \u001b[38;5;167;01mRuntimeError\u001b[39;00m(\u001b[38;5;124m\"\u001b[39m\u001b[38;5;124mCannot automatically compose two processors with post-selection conditions\u001b[39m\u001b[38;5;124m\"\u001b[39m)\n\u001b[1;32m    261\u001b[0m \u001b[38;5;28mself\u001b[39m\u001b[38;5;241m.\u001b[39m_validate_postselect_composition(mode_mapping)\n\u001b[1;32m    262\u001b[0m \u001b[38;5;28;01mif\u001b[39;00m \u001b[38;5;129;01mnot\u001b[39;00m keep_port:\n\u001b[1;32m    263\u001b[0m     \u001b[38;5;66;03m# Remove output ports used to connect the new processor\u001b[39;00m\n",
      "\u001b[0;31mRuntimeError\u001b[0m: Cannot automatically compose two processors with post-selection conditions"
     ]
    }
   ],
   "source": [
    "QPU.add([2,3, 4,5], CNOT1) # 2nd qubit control 3rd qubit\n",
    "\n",
    "QPU.add(4, T_DAG) # T+ in 2nd qubit\n",
    "\n",
    "QPU.add([0,1, 4,5], CNOT2) # 1st qubit control 3rd qubit\n",
    "\n",
    "QPU.add(4, T) # T in 2nd qubit\n",
    "\n",
    "QPU.add([2,3, 4,5], CNOT3) # 2nd qubit control 3rd qubit\n",
    "\n",
    "QPU.add(4, T_DAG) # T+ in 2nd qubit\n",
    "\n",
    "QPU.add([2,3, 4,5], CNOT4) # 2nd qubit control 3rd qubit\n",
    "\n",
    "QPU.add(2, T) # T in 2nd qubit\n",
    "\n",
    "QPU.add(4, T) # T in 3rd qubit\n",
    "\n",
    "QPU.add([0,1, 2,3], CNOT5) # 1st qubit control 2nd qubit\n",
    "\n",
    "QPU.add(0, T) # T in 1st qubit\n",
    "\n",
    "QPU.add(2, T_DAG) # T+ in 2nd qubit\n",
    "\n",
    "QPU.add([0,1, 2,3], CNOT6) # 1st qubit control 2nd qubit\n",
    "\n",
    "pcvl.pdisplay(QPU, recursive=False)"
   ]
  },
  {
   "cell_type": "code",
   "execution_count": 5,
   "metadata": {},
   "outputs": [],
   "source": [
    "# Testing circuit\n",
    "QPU.with_input(pcvl.BasicState([1, 0, 1, 0]))\n",
    "pcvl.pdisplay(QPU.source_distribution, precision=1e-4)\n",
    "\n",
    "output_distribution=QPU.probs()[\"results\"]\n",
    "pcvl.pdisplay(output_distribution, max_v=10)"
   ]
  }
 ],
 "metadata": {
  "kernelspec": {
   "display_name": "quantum",
   "language": "python",
   "name": "python3"
  },
  "language_info": {
   "codemirror_mode": {
    "name": "ipython",
    "version": 3
   },
   "file_extension": ".py",
   "mimetype": "text/x-python",
   "name": "python",
   "nbconvert_exporter": "python",
   "pygments_lexer": "ipython3",
   "version": "3.11.3"
  }
 },
 "nbformat": 4,
 "nbformat_minor": 2
}
