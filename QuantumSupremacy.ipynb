{
 "cells": [
  {
   "cell_type": "code",
   "execution_count": 2,
   "metadata": {},
   "outputs": [],
   "source": [
    "import scipy\n",
    "import numpy as np\n",
    "from scipy.stats import unitary_group\n",
    "import itertools"
   ]
  },
  {
   "cell_type": "code",
   "execution_count": 3,
   "metadata": {},
   "outputs": [],
   "source": [
    "U = unitary_group.rvs(6)"
   ]
  },
  {
   "cell_type": "code",
   "execution_count": 4,
   "metadata": {},
   "outputs": [],
   "source": [
    "def get_alpha(index: list, unitary: np.ndarray):\n",
    "\n",
    "    input_mode_occupations, output_mode_occupations = index[0:3] + [1,1,1], index[3:6] + [1,1,1]\n",
    "\n",
    "    n_input = sum(input_mode_occupations)\n",
    "    n_output = sum(output_mode_occupations)\n",
    "\n",
    "    if n_input != n_output:\n",
    "        return 0\n",
    "\n",
    "    occupied_input_modes = [index for index, occupation in enumerate(input_mode_occupations) if occupation==1]\n",
    "\n",
    "    idk_how_to_name_this = []\n",
    "    for mode, occupation in enumerate(output_mode_occupations):\n",
    "        for _ in range(occupation):\n",
    "            idk_how_to_name_this.append(mode)\n",
    "\n",
    "    permutations = list(itertools.permutations(idk_how_to_name_this))\n",
    "\n",
    "    alpha = 0\n",
    "\n",
    "    for permutation in permutations:\n",
    "        poly = 1\n",
    "        for index, mode in enumerate(occupied_input_modes):\n",
    "            poly *= unitary[mode, permutation[index]]\n",
    "\n",
    "        alpha += poly\n",
    "    \n",
    "    return alpha"
   ]
  },
  {
   "cell_type": "code",
   "execution_count": 19,
   "metadata": {},
   "outputs": [
    {
     "name": "stdout",
     "output_type": "stream",
     "text": [
      "[[0, 2, 1], [0, 0, 3], [3, 0, 0], [2, 1, 0], [1, 2, 0], [0, 3, 0], [2, 0, 1], [0, 1, 2], [1, 0, 2], [1, 1, 1]]\n"
     ]
    }
   ],
   "source": [
    "def partition_min_max(n, k, l, m):\n",
    "    \"\"\"\n",
    "    n: The integer to partition\n",
    "    k: The length of partitions\n",
    "    l: The minimum partition element size\n",
    "    m: The maximum partition element size\n",
    "    \"\"\"\n",
    "    if k < 1:\n",
    "        return []\n",
    "    if k == 1:\n",
    "        if l <= n <= m:\n",
    "            return [(n,)]\n",
    "        return []\n",
    "    result = []\n",
    "    for i in range(l, m + 1):\n",
    "        sub_partitions = partition_min_max(n - i, k - 1, i, m)\n",
    "        for sub_partition in sub_partitions:\n",
    "            result.append(sub_partition + (i,))\n",
    "    return result\n",
    "\n",
    "def get_partitions_permutations(n, k):\n",
    "    partitions = partition_min_max(n, k, 0, n)\n",
    "\n",
    "    permutations = []\n",
    "    for partition in partitions:\n",
    "        permutations.extend(list(itertools.permutations(partition)))\n",
    "    \n",
    "    return map(list, list(set(permutations)))\n",
    "            \n",
    "# Example usage:\n",
    "N = 3\n",
    "M = 3\n",
    "# partitions = list(partition_min_max(N, M, 0, N))\n",
    "permutations = get_partitions_permutations(N, M)\n",
    "# print(partitions)\n",
    "print(permutations)"
   ]
  },
  {
   "cell_type": "code",
   "execution_count": 20,
   "metadata": {},
   "outputs": [],
   "source": [
    "def loss_function_ccz_dual_rail(U):\n",
    "    desired_gate_loss = 0\n",
    "    + np.abs(get_alpha([0,0,0,0,0,0], U) - get_alpha([0,1,1,0,1,1], U))**2 \n",
    "    + np.abs(get_alpha([0,1,1,0,1,1], U) - get_alpha([1,0,1,1,0,1], U))**2\n",
    "    + np.abs(get_alpha([1,0,1,1,0,1], U) - get_alpha([1,1,0,1,1,0], U))**2\n",
    "    + np.abs(get_alpha([1,1,0,1,1,0], U) + get_alpha([0,0,1,0,0,1], U))**2\n",
    "    + np.abs(get_alpha([0,0,1,0,0,1], U) - get_alpha([0,1,0,0,1,0], U))**2\n",
    "    + np.abs(get_alpha([0,1,0,0,1,0], U) - get_alpha([1,0,0,1,0,0], U))**2\n",
    "    + np.abs(get_alpha([1,0,0,1,0,0], U) - get_alpha([1,1,1,1,1,1], U))**2\n",
    "\n",
    "    undesired_gate_loss = 0\n",
    "\n",
    "    for input_state in [[0,0,0], [0,0,1], [0,1,0], [0,1,1], [1,0,0], [1,0,1], [1,1,0], [1,1,1]]:\n",
    "        \n",
    "        particle_number = np.sum(input_state)\n",
    "\n",
    "        output_states = get_partitions_permutations(n=particle_number, k=3)\n",
    "\n",
    "        for output_state in output_states:\n",
    "            if input_state != output_state:\n",
    "                \n",
    "                index=input_state + list(output_state) \n",
    "                undesired_gate_loss += np.abs(get_alpha(index=index, unitary=U))**2\n",
    "\n",
    "    loss = desired_gate_loss + undesired_gate_loss\n",
    "\n",
    "    return loss"
   ]
  },
  {
   "cell_type": "code",
   "execution_count": 7,
   "metadata": {},
   "outputs": [],
   "source": [
    "def get_success_prob(U):\n",
    "    return np.abs(get_alpha(index=[0,0,0,0,0,0], unitary=U))**2"
   ]
  },
  {
   "cell_type": "code",
   "execution_count": 24,
   "metadata": {},
   "outputs": [
    {
     "name": "stdout",
     "output_type": "stream",
     "text": [
      "Calculated in 1995.5432305335999 seconds\n",
      "0.01824173501706873 0.0011346220744473752\n",
      "[[ 0.01401236-0.26330385j  0.03953893+0.01694316j  0.03437104+0.18470981j\n",
      "   0.39745623+0.19229393j -0.02613052+0.58432327j -0.276804  +0.52880989j]\n",
      " [-0.27928651+0.13308178j -0.10915402-0.14853236j  0.4194344 +0.44481936j\n",
      "  -0.17934838-0.10352693j -0.03598381-0.42711186j -0.39133817+0.34172173j]\n",
      " [-0.25229345+0.33671837j -0.13855627+0.50099044j -0.18555919+0.08898744j\n",
      "  -0.01356569-0.5732786j  -0.28901845+0.29148239j -0.11138537-0.02637775j]\n",
      " [-0.2667837 -0.40637399j -0.190603  +0.39918127j  0.52111967-0.05218217j\n",
      "  -0.21943342+0.16685237j  0.15340581+0.21828107j -0.07127902-0.37612678j]\n",
      " [-0.08463353+0.17307007j -0.30701702-0.61752428j  0.05843474-0.34484659j\n",
      "  -0.23341558-0.18963529j  0.12744026+0.41029072j -0.28186077-0.10239669j]\n",
      " [ 0.52468438-0.33016455j  0.05387608+0.14074934j  0.18913932-0.34082886j\n",
      "   0.10190986-0.50647291j  0.05275128-0.21709058j -0.3402899 +0.09185864j]]\n"
     ]
    }
   ],
   "source": [
    "import time\n",
    "\n",
    "best_loss = np.infty\n",
    "best_prob = 0\n",
    "best_U = None\n",
    "\n",
    "timer = time.time()\n",
    "\n",
    "try:\n",
    "    for _ in range(int(1e8)):\n",
    "\n",
    "        U = reunitary_group.rvs(6)\n",
    "\n",
    "        loss = loss_function_ccz_dual_rail(U=U)\n",
    "        prob = get_success_prob(U)\n",
    "\n",
    "        if loss < best_loss:\n",
    "            best_loss = loss\n",
    "            best_prob = prob\n",
    "            best_U = U\n",
    "\n",
    "    print(\"Calculated in\", time.time()-timer, \"seconds\")\n",
    "    print(best_loss, best_prob)\n",
    "    print(U)\n",
    "except KeyboardInterrupt:\n",
    "    print(\"Calculated in\", time.time()-timer, \"seconds\")\n",
    "    print(best_loss, best_prob)\n",
    "    print(U)"
   ]
  },
  {
   "cell_type": "code",
   "execution_count": 145,
   "metadata": {},
   "outputs": [
    {
     "name": "stdout",
     "output_type": "stream",
     "text": [
      "0.07625325382063168 0.004201985572322366\n",
      "[[ 0.35386082+0.09370338j -0.11781769+0.1126784j  -0.59085513+0.12103865j\n",
      "  -0.24731624-0.22348081j  0.34500912-0.437993j    0.23122927+0.01481521j]\n",
      " [ 0.05147172-0.34501342j -0.61937862-0.20981538j  0.15924725-0.19038506j\n",
      "   0.40548284+0.04569049j -0.04232555-0.28167285j  0.36699666-0.08207511j]\n",
      " [-0.00536796-0.40540113j -0.1896524 -0.03166948j -0.47094997-0.07977378j\n",
      "  -0.22194236+0.47062341j  0.08917585+0.51562436j  0.00107132-0.16101437j]\n",
      " [ 0.2145497 -0.32452371j -0.33890926-0.06335179j  0.16423531+0.05956836j\n",
      "  -0.16663138-0.28107991j  0.1844601 -0.02745294j -0.73554127+0.12917484j]\n",
      " [ 0.52238862+0.32440679j -0.32911184+0.50325446j  0.21671374+0.18323404j\n",
      "   0.11193591+0.20973073j -0.04669289+0.30659866j  0.07758255+0.1450259j ]\n",
      " [ 0.21748837-0.05622874j  0.16668428-0.02372708j -0.47853037-0.08014661j\n",
      "   0.53096638+0.08017722j -0.43980321-0.09894416j -0.30082001+0.32204433j]]\n"
     ]
    }
   ],
   "source": [
    "print(best_loss, best_prob)\n",
    "print(U)"
   ]
  },
  {
   "cell_type": "code",
   "execution_count": 24,
   "metadata": {},
   "outputs": [
    {
     "name": "stdout",
     "output_type": "stream",
     "text": [
      "[(1, 2, 3), (1, 3, 2), (2, 1, 3), (2, 3, 1), (3, 1, 2), (3, 2, 1)]\n"
     ]
    }
   ],
   "source": [
    "permutations = list(itertools.permutations([1, 2, 3]))\n",
    "print(permutations)"
   ]
  }
 ],
 "metadata": {
  "kernelspec": {
   "display_name": ".venv",
   "language": "python",
   "name": "python3"
  },
  "language_info": {
   "codemirror_mode": {
    "name": "ipython",
    "version": 3
   },
   "file_extension": ".py",
   "mimetype": "text/x-python",
   "name": "python",
   "nbconvert_exporter": "python",
   "pygments_lexer": "ipython3",
   "version": "3.11.3"
  }
 },
 "nbformat": 4,
 "nbformat_minor": 2
}
