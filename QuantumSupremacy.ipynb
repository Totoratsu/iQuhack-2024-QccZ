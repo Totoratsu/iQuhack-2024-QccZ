{
 "cells": [
  {
   "cell_type": "code",
   "execution_count": 127,
   "metadata": {},
   "outputs": [],
   "source": [
    "import scipy\n",
    "import numpy as np\n",
    "from scipy.stats import unitary_group\n",
    "import itertools"
   ]
  },
  {
   "cell_type": "code",
   "execution_count": 128,
   "metadata": {},
   "outputs": [
    {
     "data": {
      "text/plain": [
       "numpy.ndarray"
      ]
     },
     "execution_count": 128,
     "metadata": {},
     "output_type": "execute_result"
    }
   ],
   "source": [
    "U = unitary_group.rvs(6)\n",
    "\n",
    "type(U)"
   ]
  },
  {
   "cell_type": "code",
   "execution_count": 129,
   "metadata": {},
   "outputs": [],
   "source": [
    "def get_alpha(index: list, unitary: np.ndarray):\n",
    "\n",
    "    input_mode_occupations, output_mode_occupations = index[0:3] + [1,1,1], index[3:6] + [1,1,1]\n",
    "\n",
    "    n_input = sum(input_mode_occupations)\n",
    "    n_output = sum(output_mode_occupations)\n",
    "\n",
    "    if n_input != n_output:\n",
    "\n",
    "        return 0\n",
    "\n",
    "    occupied_input_modes = [index for index, occupation in enumerate(input_mode_occupations) if occupation==1]\n",
    "\n",
    "    idk_how_to_name_this = []\n",
    "    for mode, occupation in enumerate(output_mode_occupations):\n",
    "        for _ in range(occupation):\n",
    "            idk_how_to_name_this.append(mode)\n",
    "\n",
    "    permutations = list(itertools.permutations(idk_how_to_name_this))\n",
    "\n",
    "    alpha = 0\n",
    "\n",
    "    for permutation in permutations:\n",
    "        poly = 1\n",
    "        for index, mode in enumerate(occupied_input_modes):\n",
    "            poly *= unitary[mode, permutation[index]]\n",
    "\n",
    "        alpha += poly\n",
    "    \n",
    "    return alpha"
   ]
  },
  {
   "cell_type": "code",
   "execution_count": 135,
   "metadata": {},
   "outputs": [
    {
     "name": "stdout",
     "output_type": "stream",
     "text": [
      "[[0, 2, 1], [0, 0, 3], [3, 0, 0], [2, 1, 0], [1, 2, 0], [0, 3, 0], [2, 0, 1], [0, 1, 2], [1, 0, 2], [1, 1, 1]]\n"
     ]
    }
   ],
   "source": [
    "#def partition_min_max(n, k, l, m):\n",
    "#    \"\"\"\n",
    "#    n: The integer to partition\n",
    "#    k: The length of partitions\n",
    "#    l: The minimum partition element size\n",
    "#    m: The maximum partition element size\n",
    "#    \"\"\"\n",
    "#    if k < 1:\n",
    "#        return\n",
    "#    if k == 1:\n",
    "#        if l <= n <= m:\n",
    "#            yield (n,)\n",
    "#        return\n",
    "#    for i in range(l, m + 1):\n",
    "#        for result in partition_min_max(n - i, k - 1, i, m):\n",
    "#            yield result + (i,)\n",
    "\n",
    "def partition_min_max(n, k, l, m):\n",
    "    \"\"\"\n",
    "    n: The integer to partition\n",
    "    k: The length of partitions\n",
    "    l: The minimum partition element size\n",
    "    m: The maximum partition element size\n",
    "    \"\"\"\n",
    "    if k < 1:\n",
    "        return []\n",
    "    if k == 1:\n",
    "        if l <= n <= m:\n",
    "            return [(n,)]\n",
    "        return []\n",
    "    result = []\n",
    "    for i in range(l, m + 1):\n",
    "        sub_partitions = partition_min_max(n - i, k - 1, i, m)\n",
    "        for sub_partition in sub_partitions:\n",
    "            result.append(sub_partition + (i,))\n",
    "    return result\n",
    "\n",
    "def get_partitions_permutations(n, k):\n",
    "    partitions = partition_min_max(n, k, 0, n)\n",
    "\n",
    "    # print(partitions)\n",
    "\n",
    "    permutations = []\n",
    "    for partition in partitions:\n",
    "        permutations.extend(list(itertools.permutations(partition)))\n",
    "    \n",
    "    return list(map(list, list(set(permutations))))\n",
    "            \n",
    "# Example usage:\n",
    "N = 3\n",
    "M = 3\n",
    "# partitions = list(partition_min_max(N, M, 0, N))\n",
    "permutations = get_partitions_permutations(N, M)\n",
    "# print(partitions)\n",
    "print(permutations)"
   ]
  },
  {
   "cell_type": "code",
   "execution_count": 136,
   "metadata": {},
   "outputs": [],
   "source": [
    "def loss_function_ccz_dual_rail(U):\n",
    "    desired_gate_loss = 0\n",
    "    + np.abs(get_alpha([0,0,0,0,0,0], U) - get_alpha([0,1,1,0,1,1], U))**2 \n",
    "    + np.abs(get_alpha([0,1,1,0,1,1], U) - get_alpha([1,0,1,1,0,1], U))**2\n",
    "    + np.abs(get_alpha([1,0,1,1,0,1], U) - get_alpha([1,1,0,1,1,0], U))**2\n",
    "    + np.abs(get_alpha([1,1,0,1,1,0], U) + get_alpha([0,0,1,0,0,1], U))**2\n",
    "    + np.abs(get_alpha([0,0,1,0,0,1], U) - get_alpha([0,1,0,0,1,0], U))**2\n",
    "    + np.abs(get_alpha([0,1,0,0,1,0], U) - get_alpha([1,0,0,1,0,0], U))**2\n",
    "    + np.abs(get_alpha([1,0,0,1,0,0], U) - get_alpha([1,1,1,1,1,1], U))**2\n",
    "\n",
    "    undesired_gate_loss = 0\n",
    "\n",
    "    for input_state in [[0,0,0], [0,0,1], [0,1,0], [0,1,1], [1,0,0], [1,0,1], [1,1,0], [1,1,1]]:\n",
    "        \n",
    "        particle_number = np.sum(input_state)\n",
    "\n",
    "        output_states = get_partitions_permutations(n=particle_number, k=3)\n",
    "\n",
    "\n",
    "        for output_state in output_states:\n",
    "            if input_state != output_state:\n",
    "                \n",
    "                index=input_state + list(output_state) \n",
    "                undesired_gate_loss += np.abs(get_alpha(index=index, unitary=U))**2\n",
    "\n",
    "    loss = desired_gate_loss + undesired_gate_loss\n",
    "\n",
    "    return loss"
   ]
  },
  {
   "cell_type": "code",
   "execution_count": 140,
   "metadata": {},
   "outputs": [],
   "source": [
    "def get_success_prob(U):\n",
    "    return np.abs(get_alpha(index=[0,0,0,0,0,0], unitary=U))**2"
   ]
  },
  {
   "cell_type": "code",
   "execution_count": 144,
   "metadata": {},
   "outputs": [],
   "source": [
    "best_loss = np.infty\n",
    "best_prob = 0\n",
    "best_U = None\n",
    "\n",
    "for _ in range(3000):\n",
    "\n",
    "    U = unitary_group.rvs(6)\n",
    "\n",
    "    loss = loss_function_ccz_dual_rail(U=U)\n",
    "    prob = get_success_prob(U)\n",
    "\n",
    "    if loss < best_loss:\n",
    "        best_loss = loss\n",
    "        best_prob = prob\n",
    "        best_U = U\n",
    "\n",
    "#print(loss_function_ccz_dual_rail(U=U))\n",
    "#print(get_success_prob(U))"
   ]
  },
  {
   "cell_type": "code",
   "execution_count": 145,
   "metadata": {},
   "outputs": [
    {
     "name": "stdout",
     "output_type": "stream",
     "text": [
      "0.07625325382063168 0.004201985572322366\n",
      "[[ 0.35386082+0.09370338j -0.11781769+0.1126784j  -0.59085513+0.12103865j\n",
      "  -0.24731624-0.22348081j  0.34500912-0.437993j    0.23122927+0.01481521j]\n",
      " [ 0.05147172-0.34501342j -0.61937862-0.20981538j  0.15924725-0.19038506j\n",
      "   0.40548284+0.04569049j -0.04232555-0.28167285j  0.36699666-0.08207511j]\n",
      " [-0.00536796-0.40540113j -0.1896524 -0.03166948j -0.47094997-0.07977378j\n",
      "  -0.22194236+0.47062341j  0.08917585+0.51562436j  0.00107132-0.16101437j]\n",
      " [ 0.2145497 -0.32452371j -0.33890926-0.06335179j  0.16423531+0.05956836j\n",
      "  -0.16663138-0.28107991j  0.1844601 -0.02745294j -0.73554127+0.12917484j]\n",
      " [ 0.52238862+0.32440679j -0.32911184+0.50325446j  0.21671374+0.18323404j\n",
      "   0.11193591+0.20973073j -0.04669289+0.30659866j  0.07758255+0.1450259j ]\n",
      " [ 0.21748837-0.05622874j  0.16668428-0.02372708j -0.47853037-0.08014661j\n",
      "   0.53096638+0.08017722j -0.43980321-0.09894416j -0.30082001+0.32204433j]]\n"
     ]
    }
   ],
   "source": [
    "print(best_loss, best_prob)\n",
    "print(U)"
   ]
  },
  {
   "cell_type": "code",
   "execution_count": 24,
   "metadata": {},
   "outputs": [
    {
     "name": "stdout",
     "output_type": "stream",
     "text": [
      "[(1, 2, 3), (1, 3, 2), (2, 1, 3), (2, 3, 1), (3, 1, 2), (3, 2, 1)]\n"
     ]
    }
   ],
   "source": [
    "permutations = list(itertools.permutations([1, 2, 3]))\n",
    "print(permutations)"
   ]
  },
  {
   "cell_type": "code",
   "execution_count": null,
   "metadata": {},
   "outputs": [],
   "source": []
  },
  {
   "cell_type": "code",
   "execution_count": 55,
   "metadata": {},
   "outputs": [
    {
     "ename": "ValueError",
     "evalue": "operands could not be broadcast together with shapes (72,) (6,6) ",
     "output_type": "error",
     "traceback": [
      "\u001b[1;31m---------------------------------------------------------------------------\u001b[0m",
      "\u001b[1;31mValueError\u001b[0m                                Traceback (most recent call last)",
      "Cell \u001b[1;32mIn[55], line 30\u001b[0m\n\u001b[0;32m     27\u001b[0m \u001b[38;5;66;03m# Convert the generator expression into a list\u001b[39;00m\n\u001b[0;32m     28\u001b[0m initial_guess_flat \u001b[38;5;241m=\u001b[39m complex_to_real(initial_guess\u001b[38;5;241m.\u001b[39mflatten())\n\u001b[1;32m---> 30\u001b[0m result \u001b[38;5;241m=\u001b[39m \u001b[43mminimize\u001b[49m\u001b[43m(\u001b[49m\n\u001b[0;32m     31\u001b[0m \u001b[43m    \u001b[49m\u001b[38;5;28;43;01mlambda\u001b[39;49;00m\u001b[43m \u001b[49m\u001b[43mz\u001b[49m\u001b[43m:\u001b[49m\u001b[43m \u001b[49m\u001b[43mobjective_function\u001b[49m\u001b[43m(\u001b[49m\u001b[43mreal_to_complex\u001b[49m\u001b[43m(\u001b[49m\u001b[43mz\u001b[49m\u001b[43m)\u001b[49m\u001b[43m)\u001b[49m\u001b[43m,\u001b[49m\n\u001b[0;32m     32\u001b[0m \u001b[43m    \u001b[49m\u001b[43minitial_guess_flat\u001b[49m\u001b[43m,\u001b[49m\n\u001b[0;32m     33\u001b[0m \u001b[43m    \u001b[49m\u001b[43mconstraints\u001b[49m\u001b[38;5;241;43m=\u001b[39;49m\u001b[43mconstraint\u001b[49m\n\u001b[0;32m     34\u001b[0m \u001b[43m)\u001b[49m\n\u001b[0;32m     36\u001b[0m \u001b[38;5;28mprint\u001b[39m(\u001b[38;5;124m\"\u001b[39m\u001b[38;5;124mOptimized Unitary Matrix:\u001b[39m\u001b[38;5;124m\"\u001b[39m)\n\u001b[0;32m     37\u001b[0m \u001b[38;5;28mprint\u001b[39m(result\u001b[38;5;241m.\u001b[39mx\u001b[38;5;241m.\u001b[39mreshape((N, N)))\n",
      "File \u001b[1;32mc:\\GithubProjekte\\IQuHack2024\\.venv\\Lib\\site-packages\\scipy\\optimize\\_minimize.py:722\u001b[0m, in \u001b[0;36mminimize\u001b[1;34m(fun, x0, args, method, jac, hess, hessp, bounds, constraints, tol, callback, options)\u001b[0m\n\u001b[0;32m    719\u001b[0m     res \u001b[38;5;241m=\u001b[39m _minimize_cobyla(fun, x0, args, constraints, callback\u001b[38;5;241m=\u001b[39mcallback,\n\u001b[0;32m    720\u001b[0m                            bounds\u001b[38;5;241m=\u001b[39mbounds, \u001b[38;5;241m*\u001b[39m\u001b[38;5;241m*\u001b[39moptions)\n\u001b[0;32m    721\u001b[0m \u001b[38;5;28;01melif\u001b[39;00m meth \u001b[38;5;241m==\u001b[39m \u001b[38;5;124m'\u001b[39m\u001b[38;5;124mslsqp\u001b[39m\u001b[38;5;124m'\u001b[39m:\n\u001b[1;32m--> 722\u001b[0m     res \u001b[38;5;241m=\u001b[39m \u001b[43m_minimize_slsqp\u001b[49m\u001b[43m(\u001b[49m\u001b[43mfun\u001b[49m\u001b[43m,\u001b[49m\u001b[43m \u001b[49m\u001b[43mx0\u001b[49m\u001b[43m,\u001b[49m\u001b[43m \u001b[49m\u001b[43margs\u001b[49m\u001b[43m,\u001b[49m\u001b[43m \u001b[49m\u001b[43mjac\u001b[49m\u001b[43m,\u001b[49m\u001b[43m \u001b[49m\u001b[43mbounds\u001b[49m\u001b[43m,\u001b[49m\n\u001b[0;32m    723\u001b[0m \u001b[43m                          \u001b[49m\u001b[43mconstraints\u001b[49m\u001b[43m,\u001b[49m\u001b[43m \u001b[49m\u001b[43mcallback\u001b[49m\u001b[38;5;241;43m=\u001b[39;49m\u001b[43mcallback\u001b[49m\u001b[43m,\u001b[49m\u001b[43m \u001b[49m\u001b[38;5;241;43m*\u001b[39;49m\u001b[38;5;241;43m*\u001b[39;49m\u001b[43moptions\u001b[49m\u001b[43m)\u001b[49m\n\u001b[0;32m    724\u001b[0m \u001b[38;5;28;01melif\u001b[39;00m meth \u001b[38;5;241m==\u001b[39m \u001b[38;5;124m'\u001b[39m\u001b[38;5;124mtrust-constr\u001b[39m\u001b[38;5;124m'\u001b[39m:\n\u001b[0;32m    725\u001b[0m     res \u001b[38;5;241m=\u001b[39m _minimize_trustregion_constr(fun, x0, args, jac, hess, hessp,\n\u001b[0;32m    726\u001b[0m                                        bounds, constraints,\n\u001b[0;32m    727\u001b[0m                                        callback\u001b[38;5;241m=\u001b[39mcallback, \u001b[38;5;241m*\u001b[39m\u001b[38;5;241m*\u001b[39moptions)\n",
      "File \u001b[1;32mc:\\GithubProjekte\\IQuHack2024\\.venv\\Lib\\site-packages\\scipy\\optimize\\_slsqp_py.py:336\u001b[0m, in \u001b[0;36m_minimize_slsqp\u001b[1;34m(func, x0, args, jac, bounds, constraints, maxiter, ftol, iprint, disp, eps, callback, finite_diff_rel_step, **unknown_options)\u001b[0m\n\u001b[0;32m    322\u001b[0m exit_modes \u001b[38;5;241m=\u001b[39m {\u001b[38;5;241m-\u001b[39m\u001b[38;5;241m1\u001b[39m: \u001b[38;5;124m\"\u001b[39m\u001b[38;5;124mGradient evaluation required (g & a)\u001b[39m\u001b[38;5;124m\"\u001b[39m,\n\u001b[0;32m    323\u001b[0m                \u001b[38;5;241m0\u001b[39m: \u001b[38;5;124m\"\u001b[39m\u001b[38;5;124mOptimization terminated successfully\u001b[39m\u001b[38;5;124m\"\u001b[39m,\n\u001b[0;32m    324\u001b[0m                \u001b[38;5;241m1\u001b[39m: \u001b[38;5;124m\"\u001b[39m\u001b[38;5;124mFunction evaluation required (f & c)\u001b[39m\u001b[38;5;124m\"\u001b[39m,\n\u001b[1;32m   (...)\u001b[0m\n\u001b[0;32m    331\u001b[0m                \u001b[38;5;241m8\u001b[39m: \u001b[38;5;124m\"\u001b[39m\u001b[38;5;124mPositive directional derivative for linesearch\u001b[39m\u001b[38;5;124m\"\u001b[39m,\n\u001b[0;32m    332\u001b[0m                \u001b[38;5;241m9\u001b[39m: \u001b[38;5;124m\"\u001b[39m\u001b[38;5;124mIteration limit reached\u001b[39m\u001b[38;5;124m\"\u001b[39m}\n\u001b[0;32m    334\u001b[0m \u001b[38;5;66;03m# Set the parameters that SLSQP will need\u001b[39;00m\n\u001b[0;32m    335\u001b[0m \u001b[38;5;66;03m# meq, mieq: number of equality and inequality constraints\u001b[39;00m\n\u001b[1;32m--> 336\u001b[0m meq \u001b[38;5;241m=\u001b[39m \u001b[38;5;28msum\u001b[39m(\u001b[38;5;28mmap\u001b[39m(\u001b[38;5;28mlen\u001b[39m, \u001b[43m[\u001b[49m\u001b[43matleast_1d\u001b[49m\u001b[43m(\u001b[49m\u001b[43mc\u001b[49m\u001b[43m[\u001b[49m\u001b[38;5;124;43m'\u001b[39;49m\u001b[38;5;124;43mfun\u001b[39;49m\u001b[38;5;124;43m'\u001b[39;49m\u001b[43m]\u001b[49m\u001b[43m(\u001b[49m\u001b[43mx\u001b[49m\u001b[43m,\u001b[49m\u001b[43m \u001b[49m\u001b[38;5;241;43m*\u001b[39;49m\u001b[43mc\u001b[49m\u001b[43m[\u001b[49m\u001b[38;5;124;43m'\u001b[39;49m\u001b[38;5;124;43margs\u001b[39;49m\u001b[38;5;124;43m'\u001b[39;49m\u001b[43m]\u001b[49m\u001b[43m)\u001b[49m\u001b[43m)\u001b[49m\n\u001b[0;32m    337\u001b[0m \u001b[43m          \u001b[49m\u001b[38;5;28;43;01mfor\u001b[39;49;00m\u001b[43m \u001b[49m\u001b[43mc\u001b[49m\u001b[43m \u001b[49m\u001b[38;5;129;43;01min\u001b[39;49;00m\u001b[43m \u001b[49m\u001b[43mcons\u001b[49m\u001b[43m[\u001b[49m\u001b[38;5;124;43m'\u001b[39;49m\u001b[38;5;124;43meq\u001b[39;49m\u001b[38;5;124;43m'\u001b[39;49m\u001b[43m]\u001b[49m\u001b[43m]\u001b[49m))\n\u001b[0;32m    338\u001b[0m mieq \u001b[38;5;241m=\u001b[39m \u001b[38;5;28msum\u001b[39m(\u001b[38;5;28mmap\u001b[39m(\u001b[38;5;28mlen\u001b[39m, [atleast_1d(c[\u001b[38;5;124m'\u001b[39m\u001b[38;5;124mfun\u001b[39m\u001b[38;5;124m'\u001b[39m](x, \u001b[38;5;241m*\u001b[39mc[\u001b[38;5;124m'\u001b[39m\u001b[38;5;124margs\u001b[39m\u001b[38;5;124m'\u001b[39m]))\n\u001b[0;32m    339\u001b[0m            \u001b[38;5;28;01mfor\u001b[39;00m c \u001b[38;5;129;01min\u001b[39;00m cons[\u001b[38;5;124m'\u001b[39m\u001b[38;5;124mineq\u001b[39m\u001b[38;5;124m'\u001b[39m]]))\n\u001b[0;32m    340\u001b[0m \u001b[38;5;66;03m# m = The total number of constraints\u001b[39;00m\n",
      "File \u001b[1;32mc:\\GithubProjekte\\IQuHack2024\\.venv\\Lib\\site-packages\\scipy\\optimize\\_slsqp_py.py:336\u001b[0m, in \u001b[0;36m<listcomp>\u001b[1;34m(.0)\u001b[0m\n\u001b[0;32m    322\u001b[0m exit_modes \u001b[38;5;241m=\u001b[39m {\u001b[38;5;241m-\u001b[39m\u001b[38;5;241m1\u001b[39m: \u001b[38;5;124m\"\u001b[39m\u001b[38;5;124mGradient evaluation required (g & a)\u001b[39m\u001b[38;5;124m\"\u001b[39m,\n\u001b[0;32m    323\u001b[0m                \u001b[38;5;241m0\u001b[39m: \u001b[38;5;124m\"\u001b[39m\u001b[38;5;124mOptimization terminated successfully\u001b[39m\u001b[38;5;124m\"\u001b[39m,\n\u001b[0;32m    324\u001b[0m                \u001b[38;5;241m1\u001b[39m: \u001b[38;5;124m\"\u001b[39m\u001b[38;5;124mFunction evaluation required (f & c)\u001b[39m\u001b[38;5;124m\"\u001b[39m,\n\u001b[1;32m   (...)\u001b[0m\n\u001b[0;32m    331\u001b[0m                \u001b[38;5;241m8\u001b[39m: \u001b[38;5;124m\"\u001b[39m\u001b[38;5;124mPositive directional derivative for linesearch\u001b[39m\u001b[38;5;124m\"\u001b[39m,\n\u001b[0;32m    332\u001b[0m                \u001b[38;5;241m9\u001b[39m: \u001b[38;5;124m\"\u001b[39m\u001b[38;5;124mIteration limit reached\u001b[39m\u001b[38;5;124m\"\u001b[39m}\n\u001b[0;32m    334\u001b[0m \u001b[38;5;66;03m# Set the parameters that SLSQP will need\u001b[39;00m\n\u001b[0;32m    335\u001b[0m \u001b[38;5;66;03m# meq, mieq: number of equality and inequality constraints\u001b[39;00m\n\u001b[1;32m--> 336\u001b[0m meq \u001b[38;5;241m=\u001b[39m \u001b[38;5;28msum\u001b[39m(\u001b[38;5;28mmap\u001b[39m(\u001b[38;5;28mlen\u001b[39m, [atleast_1d(\u001b[43mc\u001b[49m\u001b[43m[\u001b[49m\u001b[38;5;124;43m'\u001b[39;49m\u001b[38;5;124;43mfun\u001b[39;49m\u001b[38;5;124;43m'\u001b[39;49m\u001b[43m]\u001b[49m\u001b[43m(\u001b[49m\u001b[43mx\u001b[49m\u001b[43m,\u001b[49m\u001b[43m \u001b[49m\u001b[38;5;241;43m*\u001b[39;49m\u001b[43mc\u001b[49m\u001b[43m[\u001b[49m\u001b[38;5;124;43m'\u001b[39;49m\u001b[38;5;124;43margs\u001b[39;49m\u001b[38;5;124;43m'\u001b[39;49m\u001b[43m]\u001b[49m\u001b[43m)\u001b[49m)\n\u001b[0;32m    337\u001b[0m           \u001b[38;5;28;01mfor\u001b[39;00m c \u001b[38;5;129;01min\u001b[39;00m cons[\u001b[38;5;124m'\u001b[39m\u001b[38;5;124meq\u001b[39m\u001b[38;5;124m'\u001b[39m]]))\n\u001b[0;32m    338\u001b[0m mieq \u001b[38;5;241m=\u001b[39m \u001b[38;5;28msum\u001b[39m(\u001b[38;5;28mmap\u001b[39m(\u001b[38;5;28mlen\u001b[39m, [atleast_1d(c[\u001b[38;5;124m'\u001b[39m\u001b[38;5;124mfun\u001b[39m\u001b[38;5;124m'\u001b[39m](x, \u001b[38;5;241m*\u001b[39mc[\u001b[38;5;124m'\u001b[39m\u001b[38;5;124margs\u001b[39m\u001b[38;5;124m'\u001b[39m]))\n\u001b[0;32m    339\u001b[0m            \u001b[38;5;28;01mfor\u001b[39;00m c \u001b[38;5;129;01min\u001b[39;00m cons[\u001b[38;5;124m'\u001b[39m\u001b[38;5;124mineq\u001b[39m\u001b[38;5;124m'\u001b[39m]]))\n\u001b[0;32m    340\u001b[0m \u001b[38;5;66;03m# m = The total number of constraints\u001b[39;00m\n",
      "Cell \u001b[1;32mIn[55], line 17\u001b[0m, in \u001b[0;36munitary_constraint\u001b[1;34m(M)\u001b[0m\n\u001b[0;32m     16\u001b[0m \u001b[38;5;28;01mdef\u001b[39;00m \u001b[38;5;21munitary_constraint\u001b[39m(M: np\u001b[38;5;241m.\u001b[39mndarray):\n\u001b[1;32m---> 17\u001b[0m     \u001b[38;5;28;01mreturn\u001b[39;00m scipy\u001b[38;5;241m.\u001b[39mlinalg\u001b[38;5;241m.\u001b[39mnorm(\u001b[43mM\u001b[49m\u001b[43m \u001b[49m\u001b[38;5;241;43m-\u001b[39;49m\u001b[43m \u001b[49m\u001b[43mnp\u001b[49m\u001b[38;5;241;43m.\u001b[39;49m\u001b[43meye\u001b[49m\u001b[43m(\u001b[49m\u001b[43mN\u001b[49m\u001b[43m)\u001b[49m)\n",
      "\u001b[1;31mValueError\u001b[0m: operands could not be broadcast together with shapes (72,) (6,6) "
     ]
    }
   ],
   "source": [
    "from scipy.optimize import minimize\n",
    "import numpy as np\n",
    "import scipy.linalg\n",
    "from scipy.stats import unitary_group\n",
    "\n",
    "N = 6\n",
    "initial_guess = unitary_group.rvs(N)\n",
    "mode_set = [4, 5, 6]\n",
    "\n",
    "def objective_function(M: np.ndarray):\n",
    "    function = 1\n",
    "    for r in range(len(mode_set)):\n",
    "        function *= sum(M[r])\n",
    "    return function\n",
    "\n",
    "def unitary_constraint(M: np.ndarray):\n",
    "    return scipy.linalg.norm(M - np.eye(N))  # || M - I ||\n",
    "\n",
    "constraint = {'type': 'eq', 'fun': unitary_constraint}\n",
    "\n",
    "def real_to_complex(z):  # real vector of length 2n -> complex of length n\n",
    "    return z[:len(z) // 2] + 1j * z[len(z) // 2:]\n",
    "\n",
    "def complex_to_real(z):  # complex vector of length n -> real of length 2n\n",
    "    return np.concatenate((np.real(z), np.imag(z)))\n",
    "\n",
    "# Convert the generator expression into a list\n",
    "initial_guess_flat = complex_to_real(initial_guess.flatten())\n",
    "\n",
    "result = minimize(\n",
    "    lambda z: objective_function(real_to_complex(z)),\n",
    "    initial_guess_flat,\n",
    "    constraints=constraint\n",
    ")\n",
    "\n",
    "print(\"Optimized Unitary Matrix:\")\n",
    "print(result.x.reshape((N, N)))\n"
   ]
  }
 ],
 "metadata": {
  "kernelspec": {
   "display_name": ".venv",
   "language": "python",
   "name": "python3"
  },
  "language_info": {
   "codemirror_mode": {
    "name": "ipython",
    "version": 3
   },
   "file_extension": ".py",
   "mimetype": "text/x-python",
   "name": "python",
   "nbconvert_exporter": "python",
   "pygments_lexer": "ipython3",
   "version": "3.11.7"
  }
 },
 "nbformat": 4,
 "nbformat_minor": 2
}
