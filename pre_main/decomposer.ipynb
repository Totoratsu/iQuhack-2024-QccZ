{
 "cells": [
  {
   "cell_type": "code",
   "execution_count": 1,
   "metadata": {},
   "outputs": [],
   "source": [
    "import math\n",
    "import numpy as np\n",
    "\n",
    "import perceval as pcvl\n",
    "from perceval.components.linear_circuit import Circuit\n",
    "import perceval.components as comp"
   ]
  },
  {
   "cell_type": "code",
   "execution_count": 8,
   "metadata": {},
   "outputs": [
    {
     "ename": "AssertionError",
     "evalue": "U parameter must be a unitary matrix",
     "output_type": "error",
     "traceback": [
      "\u001b[1;31m---------------------------------------------------------------------------\u001b[0m",
      "\u001b[1;31mAssertionError\u001b[0m                            Traceback (most recent call last)",
      "Cell \u001b[1;32mIn[8], line 40\u001b[0m\n\u001b[0;32m      1\u001b[0m \u001b[38;5;66;03m# U = pcvl.Matrix([[ 0.01401236-0.26330385j,  0.03953893+0.01694316j,  0.03437104+0.18470981j,\u001b[39;00m\n\u001b[0;32m      2\u001b[0m \u001b[38;5;66;03m#   0.39745623+0.19229393j, -0.02613052+0.58432327j, -0.276804  +0.52880989j],\u001b[39;00m\n\u001b[0;32m      3\u001b[0m \u001b[38;5;66;03m# [-0.27928651+0.13308178j, -0.10915402-0.14853236j,  0.4194344 +0.44481936j,\u001b[39;00m\n\u001b[1;32m   (...)\u001b[0m\n\u001b[0;32m     24\u001b[0m \u001b[38;5;66;03m# [-0.02470855+0.31776048j, -0.32847934+0.39163325j, -0.27932049+0.02597802j,\u001b[39;00m\n\u001b[0;32m     25\u001b[0m \u001b[38;5;66;03m#   0.46357477-0.16974911j,  0.14419836+0.51430432j,  0.11189191+0.13003638j]])\u001b[39;00m\n\u001b[0;32m     27\u001b[0m U \u001b[38;5;241m=\u001b[39m pcvl\u001b[38;5;241m.\u001b[39mMatrix([[\u001b[38;5;241m0.17543855\u001b[39m\u001b[38;5;241m-\u001b[39m\u001b[38;5;241m0.25039888\u001b[39mj,  \u001b[38;5;241m0.06623231\u001b[39m\u001b[38;5;241m-\u001b[39m\u001b[38;5;241m0.48032006\u001b[39mj,  \u001b[38;5;241m0.27215852\u001b[39m\u001b[38;5;241m-\u001b[39m\u001b[38;5;241m0.03027485\u001b[39mj,\n\u001b[0;32m     28\u001b[0m    \u001b[38;5;241m0.08590768\u001b[39m\u001b[38;5;241m+\u001b[39m\u001b[38;5;241m0.14960517\u001b[39mj,  \u001b[38;5;241m0.51604427\u001b[39m\u001b[38;5;241m-\u001b[39m\u001b[38;5;241m0.10429197\u001b[39mj, \u001b[38;5;241m-\u001b[39m\u001b[38;5;241m0.42480562\u001b[39m\u001b[38;5;241m+\u001b[39m\u001b[38;5;241m0.33021305\u001b[39mj],\n\u001b[0;32m     29\u001b[0m  [\u001b[38;5;241m-\u001b[39m\u001b[38;5;241m0.05162938\u001b[39m\u001b[38;5;241m-\u001b[39m\u001b[38;5;241m0.06576146\u001b[39mj, \u001b[38;5;241m-\u001b[39m\u001b[38;5;241m0.18725603\u001b[39m\u001b[38;5;241m+\u001b[39m\u001b[38;5;241m0.22206095\u001b[39mj, \u001b[38;5;241m-\u001b[39m\u001b[38;5;241m0.64842749\u001b[39m\u001b[38;5;241m-\u001b[39m\u001b[38;5;241m0.42285776\u001b[39mj,\n\u001b[1;32m   (...)\u001b[0m\n\u001b[0;32m     37\u001b[0m  [\u001b[38;5;241m-\u001b[39m\u001b[38;5;241m0.45334415\u001b[39m\u001b[38;5;241m-\u001b[39m\u001b[38;5;241m0.26127774\u001b[39mj,  \u001b[38;5;241m0.06161393\u001b[39m\u001b[38;5;241m+\u001b[39m\u001b[38;5;241m0.07612469\u001b[39mj,  \u001b[38;5;241m0.32336449\u001b[39m\u001b[38;5;241m+\u001b[39m\u001b[38;5;241m0.07397801\u001b[39mj,\n\u001b[0;32m     38\u001b[0m    \u001b[38;5;241m0.48829501\u001b[39m\u001b[38;5;241m-\u001b[39m\u001b[38;5;241m0.460109\u001b[39mj  ,  \u001b[38;5;241m0.18620951\u001b[39m\u001b[38;5;241m+\u001b[39m\u001b[38;5;241m0.3162732\u001b[39mj ,  \u001b[38;5;241m0.08240953\u001b[39m\u001b[38;5;241m-\u001b[39m\u001b[38;5;241m0.12230325\u001b[39mj]])\n\u001b[1;32m---> 40\u001b[0m Unitary_matrix \u001b[38;5;241m=\u001b[39m \u001b[43mcomp\u001b[49m\u001b[38;5;241;43m.\u001b[39;49m\u001b[43mUnitary\u001b[49m\u001b[43m(\u001b[49m\u001b[43mU\u001b[49m\u001b[38;5;241;43m=\u001b[39;49m\u001b[43mU\u001b[49m\u001b[43m)\u001b[49m\n",
      "File \u001b[1;32mc:\\GithubProjekte\\IQuHack2024\\.venv\\Lib\\site-packages\\perceval\\components\\unitary_components.py:338\u001b[0m, in \u001b[0;36mUnitary.__init__\u001b[1;34m(self, U, name, use_polarization)\u001b[0m\n\u001b[0;32m    336\u001b[0m \u001b[38;5;28;01mdef\u001b[39;00m \u001b[38;5;21m__init__\u001b[39m(\u001b[38;5;28mself\u001b[39m, U: Matrix, name: \u001b[38;5;28mstr\u001b[39m \u001b[38;5;241m=\u001b[39m \u001b[38;5;28;01mNone\u001b[39;00m, use_polarization: \u001b[38;5;28mbool\u001b[39m \u001b[38;5;241m=\u001b[39m \u001b[38;5;28;01mFalse\u001b[39;00m):\n\u001b[0;32m    337\u001b[0m     \u001b[38;5;28;01massert\u001b[39;00m U \u001b[38;5;129;01mis\u001b[39;00m \u001b[38;5;129;01mnot\u001b[39;00m \u001b[38;5;28;01mNone\u001b[39;00m, \u001b[38;5;124m\"\u001b[39m\u001b[38;5;124mA unitary matrix is required\u001b[39m\u001b[38;5;124m\"\u001b[39m\n\u001b[1;32m--> 338\u001b[0m     \u001b[38;5;28;01massert\u001b[39;00m U\u001b[38;5;241m.\u001b[39mis_unitary(), \u001b[38;5;124m\"\u001b[39m\u001b[38;5;124mU parameter must be a unitary matrix\u001b[39m\u001b[38;5;124m\"\u001b[39m\n\u001b[0;32m    339\u001b[0m     \u001b[38;5;66;03m# A symbolic matrix is not a use case for this component\u001b[39;00m\n\u001b[0;32m    340\u001b[0m     \u001b[38;5;28;01massert\u001b[39;00m \u001b[38;5;129;01mnot\u001b[39;00m U\u001b[38;5;241m.\u001b[39mis_symbolic(), \u001b[38;5;124m\"\u001b[39m\u001b[38;5;124mU parameter must not be symbolic\u001b[39m\u001b[38;5;124m\"\u001b[39m\n",
      "\u001b[1;31mAssertionError\u001b[0m: U parameter must be a unitary matrix"
     ]
    }
   ],
   "source": [
    "# U = pcvl.Matrix([[ 0.01401236-0.26330385j,  0.03953893+0.01694316j,  0.03437104+0.18470981j,\n",
    "#   0.39745623+0.19229393j, -0.02613052+0.58432327j, -0.276804  +0.52880989j],\n",
    "# [-0.27928651+0.13308178j, -0.10915402-0.14853236j,  0.4194344 +0.44481936j,\n",
    "#  -0.17934838-0.10352693j, -0.03598381-0.42711186j, -0.39133817+0.34172173j],\n",
    "# [-0.25229345+0.33671837j, -0.13855627+0.50099044j, -0.18555919+0.08898744j,\n",
    "#  -0.01356569-0.5732786j , -0.28901845+0.29148239j, -0.11138537-0.02637775j],\n",
    "# [-0.2667837 -0.40637399j, -0.190603  +0.39918127j,  0.52111967-0.05218217j,\n",
    "#  -0.21943342+0.16685237j,  0.15340581+0.21828107j, -0.07127902-0.37612678j],\n",
    "# [-0.08463353+0.17307007j, -0.30701702-0.61752428j,  0.05843474-0.34484659j,\n",
    "#  -0.23341558-0.18963529j,  0.12744026+0.41029072j, -0.28186077-0.10239669j],\n",
    "# [ 0.52468438-0.33016455j,  0.05387608+0.14074934j,  0.18913932-0.34082886j,\n",
    "#   0.10190986-0.50647291j,  0.05275128-0.21709058j, -0.3402899 +0.09185864j]])\n",
    "\n",
    "#U = pcvl.Matrix([[-0.56163556+0.02187819j,  0.23982805+0.00426524j, -0.13404973-0.47107257j,\n",
    "#   0.0352257 -0.18017245j,  0.29944638-0.23518279j,  0.0242669 +0.4554136j ],\n",
    "# [ 0.1117385 -0.27973968j, -0.20778111-0.70944748j, -0.00642327+0.11659228j,\n",
    "#   0.34146226-0.36778436j,  0.24716128+0.02477082j,  0.18048217+0.05475927j],\n",
    "# [-0.23868726+0.26613363j, -0.100372  -0.21725182j, -0.13941577+0.50838045j,\n",
    "#  -0.18518119+0.1873111j,   0.36889553+0.03874415j, -0.56001785+0.12829037j],\n",
    "# [ 0.32521977+0.14092149j, -0.01977408-0.15358102j, 0.04385399-0.22605486j,\n",
    "#  -0.47413204-0.38966221j, -0.22808638+0.37313977j, -0.22585199+0.42245411j],\n",
    "# [-0.4794744 +0.09188934j,  0.2165428 -0.08098457j,  0.47611892+0.33195007j,\n",
    "#  -0.14383114-0.06337311j, -0.11397781+0.40765658j,  0.40849039+0.02425937j],\n",
    "# [-0.02470855+0.31776048j, -0.32847934+0.39163325j, -0.27932049+0.02597802j,\n",
    "#   0.46357477-0.16974911j,  0.14419836+0.51430432j,  0.11189191+0.13003638j]])\n",
    "\n",
    "U = pcvl.Matrix([[0.17543855-0.25039888j,  0.06623231-0.48032006j,  0.27215852-0.03027485j,\n",
    "   0.08590768+0.14960517j,  0.51604427-0.10429197j, -0.42480562+0.33021305j],\n",
    " [-0.05162938-0.06576146j, -0.18725603+0.22206095j, -0.64842749-0.42285776j,\n",
    "   0.16851869+0.0678641j ,  0.33861025+0.33468539j, -0.21488615+0.05929336j],\n",
    " [-0.47001156-0.11394208j,  0.31731827-0.3038875j , -0.14923782-0.11112967j,\n",
    "  -0.04541326+0.48640137j,  0.19581006-0.14203906j,  0.33158706-0.36239591j],\n",
    " [ 0.32523076-0.43036058j, -0.35469274+0.0590035j , -0.02910005+0.05534752j,\n",
    "  -0.13824742-0.18787406j,  0.24436277-0.2696179j ,  0.0279727 -0.62307122j],\n",
    " [-0.15376839+0.27788652j, -0.44577919+0.38715997j,  0.36862024+0.20321457j,\n",
    "  -0.10337711+0.42820238j,  0.39726343+0.11271954j,  0.09056738+0.02397716j],\n",
    " [-0.45334415-0.26127774j,  0.06161393+0.07612469j,  0.32336449+0.07397801j,\n",
    "   0.48829501-0.460109j  ,  0.18620951+0.3162732j ,  0.08240953-0.12230325j]])\n",
    "\n",
    "Unitary_matrix = comp.Unitary(U=U)\n"
   ]
  },
  {
   "cell_type": "code",
   "execution_count": 3,
   "metadata": {},
   "outputs": [
    {
     "ename": "NotImplementedError",
     "evalue": "no implemented input parser",
     "output_type": "error",
     "traceback": [
      "\u001b[1;31m---------------------------------------------------------------------------\u001b[0m",
      "\u001b[1;31mNotImplementedError\u001b[0m                       Traceback (most recent call last)",
      "Cell \u001b[1;32mIn[3], line 7\u001b[0m\n\u001b[0;32m      3\u001b[0m QPU \u001b[38;5;241m=\u001b[39m pcvl\u001b[38;5;241m.\u001b[39mProcessor(\u001b[38;5;124m\"\u001b[39m\u001b[38;5;124mSLOS\u001b[39m\u001b[38;5;124m\"\u001b[39m, logical_qubits\u001b[38;5;241m*\u001b[39m\u001b[38;5;241m2\u001b[39m)\n\u001b[0;32m      5\u001b[0m U \u001b[38;5;241m=\u001b[39m np\u001b[38;5;241m.\u001b[39meye(\u001b[38;5;241m6\u001b[39m)\n\u001b[1;32m----> 7\u001b[0m D_QPU \u001b[38;5;241m=\u001b[39m \u001b[43mCircuit\u001b[49m\u001b[38;5;241;43m.\u001b[39;49m\u001b[43mdecomposition\u001b[49m\u001b[43m(\u001b[49m\u001b[43mUnitary_matrix\u001b[49m\u001b[43m,\u001b[49m\u001b[43m \u001b[49m\u001b[43mQPU\u001b[49m\u001b[43m)\u001b[49m\n\u001b[0;32m      8\u001b[0m pcvl\u001b[38;5;241m.\u001b[39mpdisplay(QPU, recursive\u001b[38;5;241m=\u001b[39m\u001b[38;5;28;01mTrue\u001b[39;00m)\n",
      "File \u001b[1;32mc:\\GithubProjekte\\IQuHack2024\\.venv\\Lib\\site-packages\\perceval\\components\\linear_circuit.py:618\u001b[0m, in \u001b[0;36mCircuit.decomposition\u001b[1;34m(U, component, phase_shifter_fn, shape, permutation, inverse_v, inverse_h, constraints, merge, precision, max_try, allow_error, ignore_identity_block)\u001b[0m\n\u001b[0;32m    616\u001b[0m     \u001b[38;5;28;01mexcept\u001b[39;00m:\n\u001b[0;32m    617\u001b[0m         \u001b[38;5;28;01mraise\u001b[39;00m \u001b[38;5;167;01mValueError\u001b[39;00m(\u001b[38;5;124mf\u001b[39m\u001b[38;5;124m\"\u001b[39m\u001b[38;5;124mUnknown interferometer shape: \u001b[39m\u001b[38;5;132;01m{\u001b[39;00mshape\u001b[38;5;132;01m}\u001b[39;00m\u001b[38;5;124m\"\u001b[39m)\n\u001b[1;32m--> 618\u001b[0m \u001b[38;5;28;01mif\u001b[39;00m \u001b[38;5;129;01mnot\u001b[39;00m \u001b[43mMatrix\u001b[49m\u001b[43m(\u001b[49m\u001b[43mU\u001b[49m\u001b[43m)\u001b[49m\u001b[38;5;241m.\u001b[39mis_unitary() \u001b[38;5;129;01mor\u001b[39;00m Matrix(U)\u001b[38;5;241m.\u001b[39mis_symbolic():\n\u001b[0;32m    619\u001b[0m     \u001b[38;5;28;01mraise\u001b[39;00m(\u001b[38;5;167;01mValueError\u001b[39;00m(\u001b[38;5;124m\"\u001b[39m\u001b[38;5;124mdecomposed matrix should be non symbolic unitary\u001b[39m\u001b[38;5;124m\"\u001b[39m))\n\u001b[0;32m    620\u001b[0m \u001b[38;5;28;01mif\u001b[39;00m inverse_h:\n",
      "File \u001b[1;32mc:\\GithubProjekte\\IQuHack2024\\.venv\\Lib\\site-packages\\perceval\\utils\\matrix.py:79\u001b[0m, in \u001b[0;36mMatrix.__new__\u001b[1;34m(cls, source, use_symbolic)\u001b[0m\n\u001b[0;32m     77\u001b[0m     source \u001b[38;5;241m=\u001b[39m np\u001b[38;5;241m.\u001b[39mndarray((source, source))\n\u001b[0;32m     78\u001b[0m \u001b[38;5;28;01melse\u001b[39;00m:\n\u001b[1;32m---> 79\u001b[0m     \u001b[38;5;28;01mraise\u001b[39;00m \u001b[38;5;167;01mNotImplementedError\u001b[39;00m(\u001b[38;5;124m\"\u001b[39m\u001b[38;5;124mno implemented input parser\u001b[39m\u001b[38;5;124m\"\u001b[39m)\n\u001b[0;32m     80\u001b[0m \u001b[38;5;28;01mif\u001b[39;00m use_symbolic \u001b[38;5;129;01mis\u001b[39;00m \u001b[38;5;28;01mNone\u001b[39;00m \u001b[38;5;129;01mand\u001b[39;00m \u001b[38;5;28misinstance\u001b[39m(source, sp\u001b[38;5;241m.\u001b[39mMatrix) \u001b[38;5;129;01mand\u001b[39;00m \u001b[38;5;28mlen\u001b[39m(source\u001b[38;5;241m.\u001b[39mfree_symbols):\n\u001b[0;32m     81\u001b[0m     use_symbolic \u001b[38;5;241m=\u001b[39m \u001b[38;5;28;01mTrue\u001b[39;00m\n",
      "\u001b[1;31mNotImplementedError\u001b[0m: no implemented input parser"
     ]
    }
   ],
   "source": [
    "# Simulation config\n",
    "logical_qubits = 3\n",
    "QPU = pcvl.Processor(\"SLOS\", logical_qubits*2)\n",
    "\n",
    "U = np.eye(6)\n",
    "\n",
    "D_QPU = Circuit.decomposition(Unitary_matrix, QPU)\n",
    "pcvl.pdisplay(QPU, recursive=True)"
   ]
  },
  {
   "cell_type": "code",
   "execution_count": null,
   "metadata": {},
   "outputs": [],
   "source": []
  }
 ],
 "metadata": {
  "kernelspec": {
   "display_name": "quantum",
   "language": "python",
   "name": "python3"
  },
  "language_info": {
   "codemirror_mode": {
    "name": "ipython",
    "version": 3
   },
   "file_extension": ".py",
   "mimetype": "text/x-python",
   "name": "python",
   "nbconvert_exporter": "python",
   "pygments_lexer": "ipython3",
   "version": "3.11.7"
  }
 },
 "nbformat": 4,
 "nbformat_minor": 2
}
